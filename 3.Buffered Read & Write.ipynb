{
 "cells": [
  {
   "cell_type": "code",
   "execution_count": 15,
   "id": "66a234df-c9f9-49ff-95b1-1e00bb1f1b70",
   "metadata": {},
   "outputs": [],
   "source": [
    "import io"
   ]
  },
  {
   "cell_type": "code",
   "execution_count": 16,
   "id": "c91d91fc-eac2-4c48-92da-929b107b19dd",
   "metadata": {},
   "outputs": [],
   "source": [
    "with open(\"test1.txt\" ,\"wb\") as f :\n",
    "    file = io.BufferedWriter(f)\n",
    "    \n",
    "    file.write(b\"Data Science Masters course is highly curated and uniquely designed according to the latest industry standards. This program instills students the skills essential to knowledge discovery efforts to identify standard, novel, and truly differentiated solutions and decision-making, including skills in managing, querying, analyzing, visualizing, and extracting meaning from extremely large data sets. This trending program provides students with the statistical, mathematical and computational skills needed to meet the large-scale data science challenges of today's professional world. You will learn all the stack required to work in data science industry including cloud infrastructure and real-time industry projects. This course will be taught in Hindi language.\\n\")\n",
    "    file.write(b\"this is my second  line\\n\")\n",
    "    file.flush()\n",
    "    "
   ]
  },
  {
   "cell_type": "code",
   "execution_count": 17,
   "id": "d6ad0946-67c8-4a52-a148-b8fe4f01da19",
   "metadata": {},
   "outputs": [
    {
     "name": "stdout",
     "output_type": "stream",
     "text": [
      "b\"Data Science Masters course is highly curated and uniquely designed according to the latest industry standards. This program instills students the skills essential to knowledge discovery efforts to identify standard, novel, and truly differentiated solutions and decision-making, including skills in managing, querying, analyzing, visualizing, and extracting meaning from extremely large data sets. This trending program provides students with the statistical, mathematical and computational skills needed to meet the large-scale data science challenges of today's professional world. You will learn all the stack required to work in data science industry including cloud infrastructure and real-time industry projects. This course will be taught in Hindi language.\\nthis is my second  line\\n\"\n"
     ]
    }
   ],
   "source": [
    "with open(\"test1.txt\" , \"rb\") as f :\n",
    "    \n",
    "    file = io.BufferedReader(f)\n",
    "    data = file.read(1000)\n",
    "    print(data)"
   ]
  },
  {
   "cell_type": "code",
   "execution_count": null,
   "id": "1a09af47-7fd2-4ebb-a801-a489ddafa54b",
   "metadata": {},
   "outputs": [],
   "source": []
  }
 ],
 "metadata": {
  "kernelspec": {
   "display_name": "Python 3 (ipykernel)",
   "language": "python",
   "name": "python3"
  },
  "language_info": {
   "codemirror_mode": {
    "name": "ipython",
    "version": 3
   },
   "file_extension": ".py",
   "mimetype": "text/x-python",
   "name": "python",
   "nbconvert_exporter": "python",
   "pygments_lexer": "ipython3",
   "version": "3.10.8"
  }
 },
 "nbformat": 4,
 "nbformat_minor": 5
}
