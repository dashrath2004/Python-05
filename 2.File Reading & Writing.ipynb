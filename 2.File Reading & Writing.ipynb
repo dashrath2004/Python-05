{
 "cells": [
  {
   "cell_type": "code",
   "execution_count": 1,
   "id": "c1d04544-8763-45bd-af3a-5757e5124daf",
   "metadata": {},
   "outputs": [],
   "source": [
    "data= {\n",
    "    \"name\" : \"sudh\",\n",
    "    \"mail_id\" : \"sudh@gmail.com\",\n",
    "    \"phone number\" : 956456546,\n",
    "    \"subject\" : [\"data science \" , \"big data \" , \"data analytics\" ]\n",
    "}"
   ]
  },
  {
   "cell_type": "code",
   "execution_count": 2,
   "id": "cd491f24-de53-4ec1-a595-e0acde6d57f0",
   "metadata": {},
   "outputs": [],
   "source": [
    "import json"
   ]
  },
  {
   "cell_type": "code",
   "execution_count": 3,
   "id": "fdde7080-ec91-4b24-b157-1f59a3dc2d9e",
   "metadata": {},
   "outputs": [],
   "source": [
    "with open(\"data.json\" , \"w\" ) as f :\n",
    "    json.dump(data , f)"
   ]
  },
  {
   "cell_type": "code",
   "execution_count": 4,
   "id": "1036bd87-b1c6-40f5-8313-c3558089c71b",
   "metadata": {},
   "outputs": [],
   "source": [
    "with open(\"data.json\" , \"r\") as f :\n",
    "    data1 = json.load(f)"
   ]
  },
  {
   "cell_type": "code",
   "execution_count": 5,
   "id": "696c4fbd-8679-4ac2-9090-fca991bbd207",
   "metadata": {},
   "outputs": [
    {
     "data": {
      "text/plain": [
       "{'name': 'sudh',\n",
       " 'mail_id': 'sudh@gmail.com',\n",
       " 'phone number': 956456546,\n",
       " 'subject': ['data science ', 'big data ', 'data analytics']}"
      ]
     },
     "execution_count": 5,
     "metadata": {},
     "output_type": "execute_result"
    }
   ],
   "source": [
    "data1"
   ]
  },
  {
   "cell_type": "code",
   "execution_count": 6,
   "id": "616f18ca-3400-48c2-85dd-f78554f6ab5c",
   "metadata": {},
   "outputs": [
    {
     "data": {
      "text/plain": [
       "'big data '"
      ]
     },
     "execution_count": 6,
     "metadata": {},
     "output_type": "execute_result"
    }
   ],
   "source": [
    "data1['subject'][1]"
   ]
  },
  {
   "cell_type": "code",
   "execution_count": 7,
   "id": "c632f909-84a4-485b-8e3e-5b73b1d99a94",
   "metadata": {},
   "outputs": [],
   "source": [
    "import csv"
   ]
  },
  {
   "cell_type": "code",
   "execution_count": 10,
   "id": "7937b794-f9b7-4c4c-b377-fb0931e2d3b5",
   "metadata": {},
   "outputs": [],
   "source": [
    "data = [[\"name\" , \"email_id\" , \"phone_number\"],\n",
    "        [\"sudh\" ,\"sudh@gmail.com\" , 92342424],\n",
    "        [\"krish\" , \"krish@gmail.com\" , 93242428]\n",
    "]"
   ]
  },
  {
   "cell_type": "code",
   "execution_count": 11,
   "id": "a6c2c91a-519a-4558-b67e-7b302297561c",
   "metadata": {},
   "outputs": [],
   "source": [
    "with open(\"data.csv\" , \"w\" ) as f :\n",
    "    writer = csv.writer(f)\n",
    "    \n",
    "    for i in data:\n",
    "        writer.writerow(i)"
   ]
  },
  {
   "cell_type": "code",
   "execution_count": 12,
   "id": "a6c54823-f453-430f-a542-e7bc8f857f1a",
   "metadata": {},
   "outputs": [
    {
     "name": "stdout",
     "output_type": "stream",
     "text": [
      "['name', 'email_id', 'phone_number']\n",
      "['sudh', 'sudh@gmail.com', '92342424']\n",
      "['krish', 'krish@gmail.com', '93242428']\n"
     ]
    }
   ],
   "source": [
    "with open(\"data.csv\" , 'r') as f :\n",
    "    read_data = csv.reader(f)\n",
    "    \n",
    "    for i in read_data:\n",
    "        print(i)"
   ]
  },
  {
   "cell_type": "code",
   "execution_count": 13,
   "id": "10e71ec2-5332-4846-9ad7-6a736bb2f25b",
   "metadata": {},
   "outputs": [],
   "source": [
    "with open(\"test4.bin\" , \"wb\" ) as f :\n",
    "    f.write(b\"\\x01\\x02\\x03\\x3454235\")"
   ]
  },
  {
   "cell_type": "code",
   "execution_count": 14,
   "id": "7234fcfe-d73f-495f-9df3-fd8348db4864",
   "metadata": {},
   "outputs": [
    {
     "name": "stdout",
     "output_type": "stream",
     "text": [
      "b'\\x01\\x02\\x03454235'\n"
     ]
    }
   ],
   "source": [
    "with open(\"test4.bin\",\"rb\")as f :\n",
    "    print(f.read())"
   ]
  },
  {
   "cell_type": "code",
   "execution_count": null,
   "id": "bc1d6eab-f3ac-4570-8529-43058e7e0be6",
   "metadata": {},
   "outputs": [],
   "source": []
  }
 ],
 "metadata": {
  "kernelspec": {
   "display_name": "Python 3 (ipykernel)",
   "language": "python",
   "name": "python3"
  },
  "language_info": {
   "codemirror_mode": {
    "name": "ipython",
    "version": 3
   },
   "file_extension": ".py",
   "mimetype": "text/x-python",
   "name": "python",
   "nbconvert_exporter": "python",
   "pygments_lexer": "ipython3",
   "version": "3.10.8"
  }
 },
 "nbformat": 4,
 "nbformat_minor": 5
}
