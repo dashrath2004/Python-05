{
 "cells": [
  {
   "cell_type": "markdown",
   "id": "8688deaf-8cbf-4b4f-bb74-f8c723efb527",
   "metadata": {},
   "source": [
    "Q1. What is multiprocessing in python? Why is it useful?"
   ]
  },
  {
   "cell_type": "raw",
   "id": "95bf4294-fb97-4a98-8760-7d666c5d138d",
   "metadata": {},
   "source": [
    "Multiprocessing in Python is a built-in package that allows the system to run multiple processes simultaneously. It will enable the breaking of applications into smaller threads that can run independently."
   ]
  },
  {
   "cell_type": "markdown",
   "id": "8bb72eb3-44e2-4ce0-b74a-c00a92b65883",
   "metadata": {},
   "source": [
    "Q2. What are the differences between multiprocessing and multithreading?"
   ]
  },
  {
   "cell_type": "raw",
   "id": "171a0dd1-c811-4701-aa52-00830782826d",
   "metadata": {},
   "source": [
    "Multiprocessing executes many processes simultaneously, whereas multithreading executes many threads simultaneously. Multithreading uses a common address space for all the threads, whereas multiprocessing creates a separate address space for each process."
   ]
  },
  {
   "cell_type": "markdown",
   "id": "3ddda48a-d203-4eea-ba1f-d4ad9d071e43",
   "metadata": {},
   "source": [
    "Q3. Write a python code to create a process using the multiprocessing module."
   ]
  },
  {
   "cell_type": "code",
   "execution_count": 1,
   "id": "b83fcf78-cba5-450b-85de-29f331278572",
   "metadata": {},
   "outputs": [
    {
     "name": "stdout",
     "output_type": "stream",
     "text": [
      "this is my main prog\n",
      "this is my multiprocessing prog\n"
     ]
    }
   ],
   "source": [
    "import multiprocessing\n",
    "def test():\n",
    "    print(\"this is my multiprocessing prog\")\n",
    "\n",
    "if __name__ == '__main__':\n",
    "    m = multiprocessing.Process(target=test)\n",
    "    print(\"this is my main prog\")\n",
    "    m.start()\n",
    "    m.join()"
   ]
  },
  {
   "cell_type": "markdown",
   "id": "cd70dbd2-ca77-47d8-a9ea-03a3b90eb958",
   "metadata": {},
   "source": [
    "Q4. What is a multiprocessing pool in python? Why is it used?"
   ]
  },
  {
   "cell_type": "raw",
   "id": "7770cb5d-0750-4dd5-8434-5481e0cac646",
   "metadata": {},
   "source": [
    "Python multiprocessing Pool can be used for parallel execution of a function across multiple input values, distributing the input data across processes (data parallelism). Below is a simple Python multiprocessing Pool example. Below image shows the output of the above program."
   ]
  },
  {
   "cell_type": "markdown",
   "id": "a8a91ab4-6eb3-42e9-b408-471d39f3b728",
   "metadata": {},
   "source": [
    "Q5. How can we create a pool of worker processes in python using the multiprocessing module?"
   ]
  },
  {
   "cell_type": "raw",
   "id": "66e302f9-64dc-4d5d-b7f8-2bc0c71ccd09",
   "metadata": {},
   "source": [
    "1.Create the Process Pool.\n",
    "2.Submit Tasks to the Process Pool.\n",
    "3.Wait for Tasks to Complete (Optional)\n",
    "4.Shutdown the Process Pool."
   ]
  },
  {
   "cell_type": "markdown",
   "id": "c2985e9b-b0d6-4f3e-b311-05f6da2c42a3",
   "metadata": {},
   "source": [
    "Q6. Write a python program to create 4 processes, each process should print a different number using the multiprocessing module in python."
   ]
  },
  {
   "cell_type": "code",
   "execution_count": 2,
   "id": "f2560086-5545-4fb4-8e09-d8200efce5bb",
   "metadata": {},
   "outputs": [
    {
     "name": "stdout",
     "output_type": "stream",
     "text": [
      "[1, 4, 9, 16, 25, 36, 49, 64, 81]\n"
     ]
    }
   ],
   "source": [
    "def square(n):\n",
    "    return n**2\n",
    "\n",
    "if __name__ == '__main__':\n",
    "    with multiprocessing.Pool(processes=4) as pool : \n",
    "        out = pool.map(square , [1,2,3,4,5,6,7,8,9])\n",
    "        print(out)"
   ]
  },
  {
   "cell_type": "code",
   "execution_count": null,
   "id": "952337c6-3b01-4857-869a-f003409d722e",
   "metadata": {},
   "outputs": [],
   "source": []
  }
 ],
 "metadata": {
  "kernelspec": {
   "display_name": "Python 3 (ipykernel)",
   "language": "python",
   "name": "python3"
  },
  "language_info": {
   "codemirror_mode": {
    "name": "ipython",
    "version": 3
   },
   "file_extension": ".py",
   "mimetype": "text/x-python",
   "name": "python",
   "nbconvert_exporter": "python",
   "pygments_lexer": "ipython3",
   "version": "3.10.8"
  }
 },
 "nbformat": 4,
 "nbformat_minor": 5
}
