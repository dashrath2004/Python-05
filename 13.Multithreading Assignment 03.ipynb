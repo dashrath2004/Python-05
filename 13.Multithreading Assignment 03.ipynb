{
 "cells": [
  {
   "cell_type": "markdown",
   "id": "e9401112-5fd4-49e2-a7ea-a1a03790e195",
   "metadata": {},
   "source": [
    "Q1. What is multithreading in python? Why is it used? Name the module used to handle threads in python"
   ]
  },
  {
   "cell_type": "raw",
   "id": "a3ed2f20-a1e4-41f9-9721-34b591025df2",
   "metadata": {},
   "source": [
    "Multithreading allows the programmer to divide application tasks into sub-tasks and simultaneously run them in a program. It allows threads to communicate and share resources such as files, data, and memory to the same processor."
   ]
  },
  {
   "cell_type": "raw",
   "id": "2b14bbca-4e58-4155-9d3b-0b37115d8c87",
   "metadata": {},
   "source": [
    "Threading Modules. The threading module is a high-level implementation of multithreading used to deploy an application in Python. To use multithreading, we need to import the threading module in Python Program. A start() method is used to initiate the activity of a thread."
   ]
  },
  {
   "cell_type": "markdown",
   "id": "47e4d15c-b71b-49db-9652-65faad01cabf",
   "metadata": {},
   "source": [
    "Q2. Why threading module used? Write the use of the following functions:\n",
    "\n",
    "   a. activeCount()\n",
    "   b. currentThread()\n",
    "   c. enumerate()"
   ]
  },
  {
   "cell_type": "raw",
   "id": "9ead1b59-d351-4dc1-905a-4181884bbb68",
   "metadata": {},
   "source": [
    "Threading Module Used In Python Because Python threading allows you to have different parts of your program run concurrently and can simplify your design. If you've got some experience in Python and want to speed up your program using threads, then this tutorial is for you!"
   ]
  },
  {
   "cell_type": "raw",
   "id": "2db12718-8e69-4ef9-b490-cba364cd5331",
   "metadata": {},
   "source": [
    "a. activeCount() − Returns the number of thread objects that are active."
   ]
  },
  {
   "cell_type": "raw",
   "id": "f37418ba-ba71-41ca-9b8a-c391ea34febb",
   "metadata": {},
   "source": [
    "b. current_thread() Method. The threading. current_thread() is an inbuilt method of the threading module, it is used to return the current Thread object, which corresponds to the caller's thread of control."
   ]
  },
  {
   "cell_type": "raw",
   "id": "994c40d6-40f8-4161-b3b9-bc64a710d5c0",
   "metadata": {},
   "source": [
    "c. The enumerate() function is a built-in function that allows you to iterate through a sequence and keep track of the index of each element."
   ]
  },
  {
   "cell_type": "markdown",
   "id": "3426200f-8d6c-4c7b-9653-65a0595bb92b",
   "metadata": {},
   "source": [
    "Q3. Explain the following functions :\n",
    "\n",
    " 1.run()\n",
    " 2.start()\n",
    " 3.join()\n",
    " 4.isAlive()"
   ]
  },
  {
   "cell_type": "raw",
   "id": "0b9db80c-b070-4af9-88ca-3db6815a1e75",
   "metadata": {},
   "source": [
    "1.run() - The . run() method executes any target function belonging to a given thread object that is now active. It normally executes in the background after the . start() method is invoked.\n",
    "\n",
    "2.start() - start() method is an inbuilt method of the Thread class of the threading module, it is used to start a thread's activity. This method calls the run() method internally which then executes the target method. This method must be called at most one time for one thread.\n",
    "\n",
    "3.join() - The Python join() function is used to join all the elements from the iterable and create a string and return it as an output to the user. Python join() returns a new string which is the concatenation of the other strings in the iterable specified.\n",
    "\n",
    "4.isAllive - is_alive() method is an inbuilt method of the Thread class of the threading module, it is used to check whether that thread is alive or not, ie, it is still running or not. This method returns True before the run() starts until just after the run() method is executed."
   ]
  },
  {
   "cell_type": "markdown",
   "id": "f85da68a-9930-491e-9f97-9e6c50d5bb86",
   "metadata": {},
   "source": [
    "Q4. Write a python program to create two threads. Thread one must print the list of squares and thread\n",
    "two must print the list of cubes"
   ]
  },
  {
   "cell_type": "code",
   "execution_count": 1,
   "id": "180dee88-d039-445e-b145-de4908322c28",
   "metadata": {},
   "outputs": [
    {
     "name": "stdout",
     "output_type": "stream",
     "text": [
      "Square: 100\n",
      "Cube: 1000\n",
      "Done!\n"
     ]
    }
   ],
   "source": [
    "import threading\n",
    " \n",
    "def print_cube(n):\n",
    "    # function to print cube of given num\n",
    "    print(\"Cube: {}\" .format(n*n*n))\n",
    " \n",
    " \n",
    "def print_square(n):\n",
    "    # function to print square of given num\n",
    "    print(\"Square: {}\" .format(n*n))\n",
    " \n",
    " \n",
    "if __name__ ==\"__main__\":\n",
    "    # creating thread\n",
    "    t1 = threading.Thread(target=print_square, args=(10,))\n",
    "    t2 = threading.Thread(target=print_cube, args=(10,))\n",
    " \n",
    "    # starting thread 1\n",
    "    t1.start()\n",
    "    # starting thread 2\n",
    "    t2.start()\n",
    " \n",
    "    # wait until thread 1 is completely executed\n",
    "    t1.join()\n",
    "    # wait until thread 2 is completely executed\n",
    "    t2.join()\n",
    " \n",
    "    # both threads completely executed\n",
    "    print(\"Done!\")"
   ]
  },
  {
   "cell_type": "markdown",
   "id": "410029f7-7385-47b4-9614-20c152bcb637",
   "metadata": {},
   "source": [
    "Q5. State advantages and disadvantages of multithreading"
   ]
  },
  {
   "cell_type": "raw",
   "id": "2f5b34c5-0d3d-4910-95e6-f49d62a2adc1",
   "metadata": {},
   "source": [
    "Advantages: Multithreading in Python streamlines the efficient \n",
    "            utilization of resources as the threads share the same memory and data space.\n",
    "\n",
    "            It also allows the concurrent appearance of multiple tasks and reduces the response                 time.This improves the performance .\n",
    "          \n",
    "          \n",
    "Disadvantages: Difficulty of writing code. Multithreaded and multicontexted applications are not                  easy to write. ...\n",
    "\n",
    "               Difficulty of debugging. ...\n",
    "               \n",
    "               Difficulty of managing concurrency. ...\n",
    "               \n",
    "               Difficulty of testing. ...\n",
    "               \n",
    "               Difficulty of porting existing code."
   ]
  },
  {
   "cell_type": "markdown",
   "id": "f1e41813-d5f7-4880-828b-7c04ac16af7e",
   "metadata": {},
   "source": [
    "Q6. Explain deadlocks and race conditions."
   ]
  },
  {
   "cell_type": "raw",
   "id": "9eb4cf52-a0c1-4695-8a37-7bb76035de29",
   "metadata": {},
   "source": [
    "A race condition occurs when two threads use the same variable at a given time. Deadlock exists when two threads seek one lock simultaneously. This situation will stop both threads from processing or executing the functions."
   ]
  },
  {
   "cell_type": "code",
   "execution_count": null,
   "id": "ff4fc04d-4267-4c51-8062-8730605e73ab",
   "metadata": {},
   "outputs": [],
   "source": []
  }
 ],
 "metadata": {
  "kernelspec": {
   "display_name": "Python 3 (ipykernel)",
   "language": "python",
   "name": "python3"
  },
  "language_info": {
   "codemirror_mode": {
    "name": "ipython",
    "version": 3
   },
   "file_extension": ".py",
   "mimetype": "text/x-python",
   "name": "python",
   "nbconvert_exporter": "python",
   "pygments_lexer": "ipython3",
   "version": "3.10.8"
  }
 },
 "nbformat": 4,
 "nbformat_minor": 5
}
